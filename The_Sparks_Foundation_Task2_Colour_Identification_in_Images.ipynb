{
  "nbformat": 4,
  "nbformat_minor": 0,
  "metadata": {
    "colab": {
      "name": "The Sparks Foundation Task2 - Colour Identification in Images.ipynb",
      "provenance": [],
      "authorship_tag": "ABX9TyNopJ/5dP60HRu8R0dfv4Az",
      "include_colab_link": true
    },
    "kernelspec": {
      "display_name": "Python 3",
      "name": "python3"
    }
  },
  "cells": [
    {
      "cell_type": "markdown",
      "metadata": {
        "id": "view-in-github",
        "colab_type": "text"
      },
      "source": [
        "<a href=\"https://colab.research.google.com/github/VarunVicharay/Colour-Identification-in-Images/blob/main/The_Sparks_Foundation_Task2_Colour_Identification_in_Images.ipynb\" target=\"_parent\"><img src=\"https://colab.research.google.com/assets/colab-badge.svg\" alt=\"Open In Colab\"/></a>"
      ]
    },
    {
      "cell_type": "code",
      "metadata": {
        "id": "hqtDNqZJj5MV"
      },
      "source": [
        "#NAME: VARUN VICHARAY\n",
        "#TASK2: COLOUR IDENTIFICATION IN IMAGES"
      ],
      "execution_count": null,
      "outputs": []
    },
    {
      "cell_type": "code",
      "metadata": {
        "id": "EhtbH0oX0vxM"
      },
      "source": [
        "#IMPORT LIBRARIES\n",
        "from sklearn.cluster import KMeans\n",
        "import matplotlib.pyplot as plt\n",
        "import numpy as np\n",
        "import cv2\n",
        "from collections import Counter\n",
        "from skimage.color import rgb2lab, deltaE_cie76\n",
        "import os\n",
        "from google.colab import files\n",
        "\n",
        "%matplotlib inline"
      ],
      "execution_count": null,
      "outputs": []
    },
    {
      "cell_type": "code",
      "metadata": {
        "id": "AZNZDM-H1qIC"
      },
      "source": [
        "#UPLOAD A FILE\n",
        "uploaded = files.upload()"
      ],
      "execution_count": null,
      "outputs": []
    },
    {
      "cell_type": "code",
      "metadata": {
        "id": "5nHKF8O81UuM"
      },
      "source": [
        "#VIEW YOUR IMAGE\n",
        "image = cv2.imread('tom_and_jerry.jpg')\n",
        "print(\"The type of this input is {}\".format(type(image)))\n",
        "print(\"Shape: {}\".format(image.shape))\n",
        "plt.imshow(image)"
      ],
      "execution_count": null,
      "outputs": []
    },
    {
      "cell_type": "code",
      "metadata": {
        "id": "oGBSmlAQ17d0"
      },
      "source": [
        "#CONVERTING BLUE GREEN RED IMAGE TO RED GREEN BLUE\n",
        "image = cv2.cvtColor(image, cv2.COLOR_BGR2RGB)\n",
        "plt.imshow(image)"
      ],
      "execution_count": null,
      "outputs": []
    },
    {
      "cell_type": "code",
      "metadata": {
        "id": "kUhjiTw22Be9"
      },
      "source": [
        "#CONVERTING BLUE GREEN RED IMAGE TO GRAY IMAGE\n",
        "gray_image = cv2.cvtColor(image, cv2.COLOR_BGR2GRAY)\n",
        "plt.imshow(gray_image, cmap='gray')"
      ],
      "execution_count": null,
      "outputs": []
    },
    {
      "cell_type": "code",
      "metadata": {
        "id": "cIpC2KcH2HDo"
      },
      "source": [
        "#RESIZING THE IMAGE\n",
        "resized_image = cv2.resize(image, (1200, 700))\n",
        "plt.imshow(resized_image)"
      ],
      "execution_count": null,
      "outputs": []
    },
    {
      "cell_type": "code",
      "metadata": {
        "id": "FaIU9Lrc4unk"
      },
      "source": [
        "#COLOUR IDENTIFICATION: RGB TO HEX CONVERSION\n",
        "def RGB2HEX(color):\n",
        "  return \"#{:02x}{:02x}{:02x}\".format(int(color[0]), int(color[1]), int(color[2]))"
      ],
      "execution_count": null,
      "outputs": []
    },
    {
      "cell_type": "code",
      "metadata": {
        "id": "mqufe9-q5d2Z"
      },
      "source": [
        "def get_image(image_path):\n",
        "  image = cv2.imread(image_path)\n",
        "  image = cv2.cvtColor(image, cv2.COLOR_BGR2RGB)\n",
        "  return image"
      ],
      "execution_count": null,
      "outputs": []
    },
    {
      "cell_type": "code",
      "metadata": {
        "id": "hhG9xNew3p45"
      },
      "source": [
        "def get_colors(image, number_of_colors, show_chart):\n",
        "  modified_image = cv2.resize(image, (600, 400), interpolation = cv2.INTER_AREA)\n",
        "  modified_image = modified_image.reshape(modified_image.shape[0]*modified_image.shape[1], 3)\n",
        "  clf = KMeans(n_clusters = number_of_colors)\n",
        "  labels = clf.fit_predict(modified_image)\n",
        "  counts = Counter(labels)\n",
        "  center_colors = clf.cluster_centers_\n",
        "  ordered_colors = [center_colors[i] for i in counts.keys()]\n",
        "  hex_colors = [RGB2HEX(ordered_colors[i]) for i in counts.keys()]\n",
        "  rgb_colors = [ordered_colors[i] for i in counts.keys()]\n",
        "\n",
        "  if (show_chart):\n",
        "    plt.figure(figsize = (8, 6))\n",
        "    plt.pie(counts.values(), labels = hex_colors, colors = hex_colors)\n",
        "\n",
        "  return rgb_colors"
      ],
      "execution_count": null,
      "outputs": []
    },
    {
      "cell_type": "code",
      "metadata": {
        "id": "nomCjeDY4m-I"
      },
      "source": [
        "#TOP 15 COLOURS IN THE IMAGE\n",
        "get_colors(get_image('tom_and_jerry.jpg'), 15, True)"
      ],
      "execution_count": null,
      "outputs": []
    }
  ]
}